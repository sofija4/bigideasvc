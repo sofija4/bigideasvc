{
 "cells": [
  {
   "cell_type": "code",
   "execution_count": null,
   "id": "21dc25fb",
   "metadata": {},
   "outputs": [],
   "source": [
    "name = input(\"Enter your name\")\n",
    "age = input(\"Enter your age\")\n",
    "print(\"Hi,\", name)\n",
    "age_in_five_years = int(age) + 5\n",
    "print(\"Age in 5 years: \")\n",
    "print(age_in_five_years)"
   ]
  }
 ],
 "metadata": {
  "language_info": {
   "name": "python"
  }
 },
 "nbformat": 4,
 "nbformat_minor": 5
}
